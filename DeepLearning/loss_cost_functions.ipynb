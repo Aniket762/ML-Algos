{
  "nbformat": 4,
  "nbformat_minor": 0,
  "metadata": {
    "colab": {
      "name": "loss_cost_functions.ipynb",
      "provenance": []
    },
    "kernelspec": {
      "name": "python3",
      "display_name": "Python 3"
    },
    "language_info": {
      "name": "python"
    }
  },
  "cells": [
    {
      "cell_type": "code",
      "metadata": {
        "id": "FrvemIiqSnjg"
      },
      "source": [
        "import numpy as np\n",
        "y_predicted = np.array([1,1,0,0,1])\n",
        "y_true = np.array([0.3,0.7,1,0,0.5])"
      ],
      "execution_count": 1,
      "outputs": []
    },
    {
      "cell_type": "code",
      "metadata": {
        "id": "WVcfGRUyTIWl"
      },
      "source": [
        "# Mean Absolute Error\n",
        "def mae(y_true,y_predicted):\n",
        "  total_error = 0\n",
        "  for yt,yp in zip(y_true,y_predicted):\n",
        "    total_error += abs(yt-yp)\n",
        "  print(\"Total Error: \",total_error)\n",
        "  mae = total_error/len(y_true)\n",
        "  print(\"Mean Absolute error: \", mae)\n",
        "  return mae "
      ],
      "execution_count": 3,
      "outputs": []
    },
    {
      "cell_type": "code",
      "metadata": {
        "colab": {
          "base_uri": "https://localhost:8080/"
        },
        "id": "70wClfyQTm07",
        "outputId": "e535679f-9bda-4309-cc55-0e8e93f878e1"
      },
      "source": [
        "mae(y_true,y_predicted)"
      ],
      "execution_count": 4,
      "outputs": [
        {
          "output_type": "stream",
          "text": [
            "Total Error:  2.5\n",
            "Mean Absolute error:  0.5\n"
          ],
          "name": "stdout"
        },
        {
          "output_type": "execute_result",
          "data": {
            "text/plain": [
              "0.5"
            ]
          },
          "metadata": {
            "tags": []
          },
          "execution_count": 4
        }
      ]
    },
    {
      "cell_type": "code",
      "metadata": {
        "colab": {
          "base_uri": "https://localhost:8080/"
        },
        "id": "00_HUtNGTtun",
        "outputId": "93cf08fb-e7ec-4c70-ad1a-b2c5746a25a9"
      },
      "source": [
        "# Using numpy for writing the mae function\n",
        "np.mean(np.abs(y_predicted-y_true))"
      ],
      "execution_count": 5,
      "outputs": [
        {
          "output_type": "execute_result",
          "data": {
            "text/plain": [
              "0.5"
            ]
          },
          "metadata": {
            "tags": []
          },
          "execution_count": 5
        }
      ]
    },
    {
      "cell_type": "code",
      "metadata": {
        "colab": {
          "base_uri": "https://localhost:8080/"
        },
        "id": "I9tYF1uWT9tV",
        "outputId": "2309d8a2-631d-40aa-d614-d3fbc49414c0"
      },
      "source": [
        "# Mean Square Error | using numpy\n",
        "mse = (np.abs(y_predicted-y_true))*(np.abs(y_predicted-y_true))\n",
        "np.mean(mse)"
      ],
      "execution_count": 8,
      "outputs": [
        {
          "output_type": "execute_result",
          "data": {
            "text/plain": [
              "0.366"
            ]
          },
          "metadata": {
            "tags": []
          },
          "execution_count": 8
        }
      ]
    },
    {
      "cell_type": "code",
      "metadata": {
        "id": "ltwihToIUozx"
      },
      "source": [
        "# Log loss or binary cross entropy\n",
        "e = 1e-15"
      ],
      "execution_count": 9,
      "outputs": []
    },
    {
      "cell_type": "code",
      "metadata": {
        "colab": {
          "base_uri": "https://localhost:8080/"
        },
        "id": "AzuBIFlcWvVe",
        "outputId": "c62a45fb-061e-46bd-ffdb-b272c82d2ccc"
      },
      "source": [
        "# Trying to replace 0 with epsilon because log(0) gives undefined\n",
        "y_predicted_new = [ max(i,e) for i in y_predicted]\n",
        "y_predicted_new"
      ],
      "execution_count": 14,
      "outputs": [
        {
          "output_type": "execute_result",
          "data": {
            "text/plain": [
              "[1, 1, 1e-15, 1e-15, 1]"
            ]
          },
          "metadata": {
            "tags": []
          },
          "execution_count": 14
        }
      ]
    },
    {
      "cell_type": "code",
      "metadata": {
        "colab": {
          "base_uri": "https://localhost:8080/"
        },
        "id": "DXUNsCQ5W3ls",
        "outputId": "18b5cc42-27d0-406c-da96-523485d0c9f4"
      },
      "source": [
        "# Replacing 1 with 1-e \n",
        "y_predicted_new = [min(i,1-e) for i in y_predicted_new]\n",
        "y_predicted_new"
      ],
      "execution_count": 15,
      "outputs": [
        {
          "output_type": "execute_result",
          "data": {
            "text/plain": [
              "[0.999999999999999, 0.999999999999999, 1e-15, 1e-15, 0.999999999999999]"
            ]
          },
          "metadata": {
            "tags": []
          },
          "execution_count": 15
        }
      ]
    },
    {
      "cell_type": "code",
      "metadata": {
        "colab": {
          "base_uri": "https://localhost:8080/"
        },
        "id": "kE4vvqm6XMgR",
        "outputId": "8953448a-244d-4079-af74-2b8c8549d6f4"
      },
      "source": [
        "y_predicted_new = np.array(y_predicted_new)\n",
        "np.log(y_predicted_new)"
      ],
      "execution_count": 16,
      "outputs": [
        {
          "output_type": "execute_result",
          "data": {
            "text/plain": [
              "array([-9.99200722e-16, -9.99200722e-16, -3.45387764e+01, -3.45387764e+01,\n",
              "       -9.99200722e-16])"
            ]
          },
          "metadata": {
            "tags": []
          },
          "execution_count": 16
        }
      ]
    },
    {
      "cell_type": "code",
      "metadata": {
        "colab": {
          "base_uri": "https://localhost:8080/"
        },
        "id": "kGLiPOfDcsv4",
        "outputId": "0b66fe21-4390-4580-a68c-e335801f0ac6"
      },
      "source": [
        "-np.mean(y_true*np.log(y_predicted_new)+(1-y_true)*np.log(1-y_predicted_new))"
      ],
      "execution_count": 17,
      "outputs": [
        {
          "output_type": "execute_result",
          "data": {
            "text/plain": [
              "17.2696280766844"
            ]
          },
          "metadata": {
            "tags": []
          },
          "execution_count": 17
        }
      ]
    },
    {
      "cell_type": "code",
      "metadata": {
        "id": "jCzbJj3ge18v"
      },
      "source": [
        "#Log loss or binary cross entropy without numpy\n",
        "def log_loss(y_true,y_predicted):\n",
        "  y_predicted_new = [max(i,e) for i in y_predicted]\n",
        "  y_predicted_new = [min(1,1-e) for i in y_predicted_new]\n",
        "  y_predicted_new = np.array(y_predicted_new)\n",
        "  return -np.mean(y_true*np.log(y_predicted_new) + (1-y_true)*np.log(1-y_predicted_new))\n",
        "  "
      ],
      "execution_count": 18,
      "outputs": []
    },
    {
      "cell_type": "code",
      "metadata": {
        "colab": {
          "base_uri": "https://localhost:8080/"
        },
        "id": "MBxLwCZyfn-m",
        "outputId": "60842bc1-3c6b-4574-f87d-b6a4a4f63e79"
      },
      "source": [
        "log_loss(y_true,y_predicted)"
      ],
      "execution_count": 19,
      "outputs": [
        {
          "output_type": "execute_result",
          "data": {
            "text/plain": [
              "17.26978799617044"
            ]
          },
          "metadata": {
            "tags": []
          },
          "execution_count": 19
        }
      ]
    },
    {
      "cell_type": "code",
      "metadata": {
        "id": "rAlLvkxCftar"
      },
      "source": [
        ""
      ],
      "execution_count": null,
      "outputs": []
    }
  ]
}