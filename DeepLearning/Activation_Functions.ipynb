{
  "nbformat": 4,
  "nbformat_minor": 0,
  "metadata": {
    "colab": {
      "name": "Activation Functions",
      "provenance": []
    },
    "kernelspec": {
      "name": "python3",
      "display_name": "Python 3"
    },
    "language_info": {
      "name": "python"
    }
  },
  "cells": [
    {
      "cell_type": "code",
      "metadata": {
        "id": "12kQotRYk6Ls"
      },
      "source": [
        "import math"
      ],
      "execution_count": 1,
      "outputs": []
    },
    {
      "cell_type": "code",
      "metadata": {
        "id": "8egtnGqXlD3Q"
      },
      "source": [
        "# Sigmoid functions always gives value in the range of 0 to 1\n",
        "def sigmoid(x):\n",
        "  return 1/(1+ math.exp(-x))"
      ],
      "execution_count": 2,
      "outputs": []
    },
    {
      "cell_type": "code",
      "metadata": {
        "colab": {
          "base_uri": "https://localhost:8080/"
        },
        "id": "jICxYBh0loPg",
        "outputId": "861d9bb6-e5c3-40af-d34a-55e2f6206e7d"
      },
      "source": [
        "sigmoid(500)"
      ],
      "execution_count": 3,
      "outputs": [
        {
          "output_type": "execute_result",
          "data": {
            "text/plain": [
              "1.0"
            ]
          },
          "metadata": {
            "tags": []
          },
          "execution_count": 3
        }
      ]
    },
    {
      "cell_type": "code",
      "metadata": {
        "colab": {
          "base_uri": "https://localhost:8080/"
        },
        "id": "jLPgA8QalqDT",
        "outputId": "b11efba6-0a1f-442b-8b2f-8dc03301f4dc"
      },
      "source": [
        "sigmoid(30)"
      ],
      "execution_count": 4,
      "outputs": [
        {
          "output_type": "execute_result",
          "data": {
            "text/plain": [
              "0.9999999999999065"
            ]
          },
          "metadata": {
            "tags": []
          },
          "execution_count": 4
        }
      ]
    },
    {
      "cell_type": "code",
      "metadata": {
        "colab": {
          "base_uri": "https://localhost:8080/"
        },
        "id": "BPXxaJUClrpz",
        "outputId": "793baaa8-726d-4638-d729-980e7a3d4c90"
      },
      "source": [
        "sigmoid(-10)"
      ],
      "execution_count": 7,
      "outputs": [
        {
          "output_type": "execute_result",
          "data": {
            "text/plain": [
              "4.5397868702434395e-05"
            ]
          },
          "metadata": {
            "tags": []
          },
          "execution_count": 7
        }
      ]
    },
    {
      "cell_type": "code",
      "metadata": {
        "id": "MPTYBHYPltAK"
      },
      "source": [
        "# tan h function gives any value between -1 to 1\n",
        "def tanh(x):\n",
        "  return (math.exp(x) - math.exp(-x))/(math.exp(x) + math.exp(-x))"
      ],
      "execution_count": 6,
      "outputs": []
    },
    {
      "cell_type": "code",
      "metadata": {
        "colab": {
          "base_uri": "https://localhost:8080/"
        },
        "id": "JLAf_QvVmH2W",
        "outputId": "52258ac1-6a59-40ee-f4f9-6d286f4255f1"
      },
      "source": [
        "tanh(30)"
      ],
      "execution_count": 8,
      "outputs": [
        {
          "output_type": "execute_result",
          "data": {
            "text/plain": [
              "1.0"
            ]
          },
          "metadata": {
            "tags": []
          },
          "execution_count": 8
        }
      ]
    },
    {
      "cell_type": "code",
      "metadata": {
        "colab": {
          "base_uri": "https://localhost:8080/"
        },
        "id": "BQGmNayTmO0-",
        "outputId": "abf04001-eaf9-4371-cc88-072550fd9324"
      },
      "source": [
        "tanh(-30)"
      ],
      "execution_count": 9,
      "outputs": [
        {
          "output_type": "execute_result",
          "data": {
            "text/plain": [
              "-1.0"
            ]
          },
          "metadata": {
            "tags": []
          },
          "execution_count": 9
        }
      ]
    },
    {
      "cell_type": "code",
      "metadata": {
        "colab": {
          "base_uri": "https://localhost:8080/"
        },
        "id": "9dC4Iz4TmQoE",
        "outputId": "64016b83-278d-4e05-af51-feff3ee22c8c"
      },
      "source": [
        "tanh(0)"
      ],
      "execution_count": 10,
      "outputs": [
        {
          "output_type": "execute_result",
          "data": {
            "text/plain": [
              "0.0"
            ]
          },
          "metadata": {
            "tags": []
          },
          "execution_count": 10
        }
      ]
    },
    {
      "cell_type": "code",
      "metadata": {
        "id": "bRR_93QAmSd1"
      },
      "source": [
        "# Relu will give value max(0,n) ; where n is the number passed\n",
        "def relu(x):\n",
        "  return max(0,x) "
      ],
      "execution_count": 11,
      "outputs": []
    },
    {
      "cell_type": "code",
      "metadata": {
        "colab": {
          "base_uri": "https://localhost:8080/"
        },
        "id": "sIOi88tImsbs",
        "outputId": "7e9c3336-41bf-4a97-8c40-402ef9fc5ef0"
      },
      "source": [
        "relu(30)"
      ],
      "execution_count": 12,
      "outputs": [
        {
          "output_type": "execute_result",
          "data": {
            "text/plain": [
              "30"
            ]
          },
          "metadata": {
            "tags": []
          },
          "execution_count": 12
        }
      ]
    },
    {
      "cell_type": "code",
      "metadata": {
        "colab": {
          "base_uri": "https://localhost:8080/"
        },
        "id": "sb_fI0Y0mtp4",
        "outputId": "e4dbeeed-466e-4eed-f43d-e9f742b2a87c"
      },
      "source": [
        "relu(-30)"
      ],
      "execution_count": 13,
      "outputs": [
        {
          "output_type": "execute_result",
          "data": {
            "text/plain": [
              "0"
            ]
          },
          "metadata": {
            "tags": []
          },
          "execution_count": 13
        }
      ]
    },
    {
      "cell_type": "code",
      "metadata": {
        "id": "ZCGScIDTmv0y"
      },
      "source": [
        "# Leaky Relu gives max(0.1n,n) ; where n is the number passed\n",
        "def leaky_relu(x):\n",
        "  return max(0.1*x,x)"
      ],
      "execution_count": 14,
      "outputs": []
    },
    {
      "cell_type": "code",
      "metadata": {
        "colab": {
          "base_uri": "https://localhost:8080/"
        },
        "id": "G4ZW1qY3nBpD",
        "outputId": "74df7c42-b03d-48f1-b514-fc646b92c2f1"
      },
      "source": [
        "leaky_relu(-30)"
      ],
      "execution_count": 15,
      "outputs": [
        {
          "output_type": "execute_result",
          "data": {
            "text/plain": [
              "-3.0"
            ]
          },
          "metadata": {
            "tags": []
          },
          "execution_count": 15
        }
      ]
    },
    {
      "cell_type": "code",
      "metadata": {
        "id": "WgHjZduqnDW6"
      },
      "source": [
        " "
      ],
      "execution_count": null,
      "outputs": []
    }
  ]
}